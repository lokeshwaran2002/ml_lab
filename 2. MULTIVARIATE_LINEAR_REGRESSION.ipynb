{
  "nbformat": 4,
  "nbformat_minor": 0,
  "metadata": {
    "colab": {
      "provenance": []
    },
    "kernelspec": {
      "name": "python3",
      "display_name": "Python 3"
    },
    "language_info": {
      "name": "python"
    }
  },
  "cells": [
    {
      "cell_type": "markdown",
      "source": [
        "\n",
        "\n",
        "```\n",
        "Name: Sudarsun S\n",
        "RegNo: 20BCE1699\n",
        "Course: CSE4020 Machine Learning\n",
        "Embedded Lab Assignment\n",
        "```\n",
        "\n"
      ],
      "metadata": {
        "id": "XA5a2Izbz6gW"
      }
    },
    {
      "cell_type": "markdown",
      "source": [
        "**1.The evaluation score for the professors has been got from the students. The scores are generated based on the looks of the Professor. Make a histogram and identify the distribution of the scores. What do you infer from the distribution?**\n",
        "\n"
      ],
      "metadata": {
        "id": "L4kc0hSJgBIx"
      }
    },
    {
      "cell_type": "code",
      "execution_count": null,
      "metadata": {
        "colab": {
          "base_uri": "https://localhost:8080/",
          "height": 617
        },
        "id": "Ptfd7VsLeo68",
        "outputId": "7837c7da-4d08-4a8f-f8ab-e44d3d05183b"
      },
      "outputs": [
        {
          "output_type": "execute_result",
          "data": {
            "text/plain": [
              "     course_id  prof_id  score          rank     ethnicity  gender  \\\n",
              "0            1        1    4.7  tenure track      minority  female   \n",
              "1            2        1    4.1  tenure track      minority  female   \n",
              "2            3        1    3.9  tenure track      minority  female   \n",
              "3            4        1    4.8  tenure track      minority  female   \n",
              "4            5        2    4.6       tenured  not minority    male   \n",
              "..         ...      ...    ...           ...           ...     ...   \n",
              "458        459       93    4.5  tenure track  not minority    male   \n",
              "459        460       94    3.5  tenure track      minority  female   \n",
              "460        461       94    4.4  tenure track      minority  female   \n",
              "461        462       94    4.4  tenure track      minority  female   \n",
              "462        463       94    4.1  tenure track      minority  female   \n",
              "\n",
              "        language  age  cls_perc_eval  cls_did_eval  ...   cls_credits  \\\n",
              "0        english   36       55.81395            24  ...  multi credit   \n",
              "1        english   36       68.80000            86  ...  multi credit   \n",
              "2        english   36       60.80000            76  ...  multi credit   \n",
              "3        english   36       62.60163            77  ...  multi credit   \n",
              "4        english   59       85.00000            17  ...  multi credit   \n",
              "..           ...  ...            ...           ...  ...           ...   \n",
              "458      english   32       60.46511            52  ...  multi credit   \n",
              "459  non-english   42       57.14286            48  ...  multi credit   \n",
              "460  non-english   42       77.61194            52  ...  multi credit   \n",
              "461  non-english   42       81.81818            54  ...  multi credit   \n",
              "462  non-english   42       80.00000            28  ...    one credit   \n",
              "\n",
              "    bty_f1lower bty_f1upper bty_f2upper  bty_m1lower  bty_m1upper  \\\n",
              "0             5           7           6            2            4   \n",
              "1             5           7           6            2            4   \n",
              "2             5           7           6            2            4   \n",
              "3             5           7           6            2            4   \n",
              "4             4           4           2            2            3   \n",
              "..          ...         ...         ...          ...          ...   \n",
              "458           6           6           9            7            8   \n",
              "459           3           8           7            4            6   \n",
              "460           3           8           7            4            6   \n",
              "461           3           8           7            4            6   \n",
              "462           3           8           7            4            6   \n",
              "\n",
              "     bty_m2upper  bty_avg  pic_outfit  pic_color  \n",
              "0              6    5.000  not formal      color  \n",
              "1              6    5.000  not formal      color  \n",
              "2              6    5.000  not formal      color  \n",
              "3              6    5.000  not formal      color  \n",
              "4              3    3.000  not formal      color  \n",
              "..           ...      ...         ...        ...  \n",
              "458            5    6.833  not formal      color  \n",
              "459            4    5.333  not formal      color  \n",
              "460            4    5.333  not formal      color  \n",
              "461            4    5.333  not formal      color  \n",
              "462            4    5.333  not formal      color  \n",
              "\n",
              "[463 rows x 23 columns]"
            ],
            "text/html": [
              "\n",
              "  <div id=\"df-8a7cfcaa-e621-486c-bb1e-132e06202bb2\" class=\"colab-df-container\">\n",
              "    <div>\n",
              "<style scoped>\n",
              "    .dataframe tbody tr th:only-of-type {\n",
              "        vertical-align: middle;\n",
              "    }\n",
              "\n",
              "    .dataframe tbody tr th {\n",
              "        vertical-align: top;\n",
              "    }\n",
              "\n",
              "    .dataframe thead th {\n",
              "        text-align: right;\n",
              "    }\n",
              "</style>\n",
              "<table border=\"1\" class=\"dataframe\">\n",
              "  <thead>\n",
              "    <tr style=\"text-align: right;\">\n",
              "      <th></th>\n",
              "      <th>course_id</th>\n",
              "      <th>prof_id</th>\n",
              "      <th>score</th>\n",
              "      <th>rank</th>\n",
              "      <th>ethnicity</th>\n",
              "      <th>gender</th>\n",
              "      <th>language</th>\n",
              "      <th>age</th>\n",
              "      <th>cls_perc_eval</th>\n",
              "      <th>cls_did_eval</th>\n",
              "      <th>...</th>\n",
              "      <th>cls_credits</th>\n",
              "      <th>bty_f1lower</th>\n",
              "      <th>bty_f1upper</th>\n",
              "      <th>bty_f2upper</th>\n",
              "      <th>bty_m1lower</th>\n",
              "      <th>bty_m1upper</th>\n",
              "      <th>bty_m2upper</th>\n",
              "      <th>bty_avg</th>\n",
              "      <th>pic_outfit</th>\n",
              "      <th>pic_color</th>\n",
              "    </tr>\n",
              "  </thead>\n",
              "  <tbody>\n",
              "    <tr>\n",
              "      <th>0</th>\n",
              "      <td>1</td>\n",
              "      <td>1</td>\n",
              "      <td>4.7</td>\n",
              "      <td>tenure track</td>\n",
              "      <td>minority</td>\n",
              "      <td>female</td>\n",
              "      <td>english</td>\n",
              "      <td>36</td>\n",
              "      <td>55.81395</td>\n",
              "      <td>24</td>\n",
              "      <td>...</td>\n",
              "      <td>multi credit</td>\n",
              "      <td>5</td>\n",
              "      <td>7</td>\n",
              "      <td>6</td>\n",
              "      <td>2</td>\n",
              "      <td>4</td>\n",
              "      <td>6</td>\n",
              "      <td>5.000</td>\n",
              "      <td>not formal</td>\n",
              "      <td>color</td>\n",
              "    </tr>\n",
              "    <tr>\n",
              "      <th>1</th>\n",
              "      <td>2</td>\n",
              "      <td>1</td>\n",
              "      <td>4.1</td>\n",
              "      <td>tenure track</td>\n",
              "      <td>minority</td>\n",
              "      <td>female</td>\n",
              "      <td>english</td>\n",
              "      <td>36</td>\n",
              "      <td>68.80000</td>\n",
              "      <td>86</td>\n",
              "      <td>...</td>\n",
              "      <td>multi credit</td>\n",
              "      <td>5</td>\n",
              "      <td>7</td>\n",
              "      <td>6</td>\n",
              "      <td>2</td>\n",
              "      <td>4</td>\n",
              "      <td>6</td>\n",
              "      <td>5.000</td>\n",
              "      <td>not formal</td>\n",
              "      <td>color</td>\n",
              "    </tr>\n",
              "    <tr>\n",
              "      <th>2</th>\n",
              "      <td>3</td>\n",
              "      <td>1</td>\n",
              "      <td>3.9</td>\n",
              "      <td>tenure track</td>\n",
              "      <td>minority</td>\n",
              "      <td>female</td>\n",
              "      <td>english</td>\n",
              "      <td>36</td>\n",
              "      <td>60.80000</td>\n",
              "      <td>76</td>\n",
              "      <td>...</td>\n",
              "      <td>multi credit</td>\n",
              "      <td>5</td>\n",
              "      <td>7</td>\n",
              "      <td>6</td>\n",
              "      <td>2</td>\n",
              "      <td>4</td>\n",
              "      <td>6</td>\n",
              "      <td>5.000</td>\n",
              "      <td>not formal</td>\n",
              "      <td>color</td>\n",
              "    </tr>\n",
              "    <tr>\n",
              "      <th>3</th>\n",
              "      <td>4</td>\n",
              "      <td>1</td>\n",
              "      <td>4.8</td>\n",
              "      <td>tenure track</td>\n",
              "      <td>minority</td>\n",
              "      <td>female</td>\n",
              "      <td>english</td>\n",
              "      <td>36</td>\n",
              "      <td>62.60163</td>\n",
              "      <td>77</td>\n",
              "      <td>...</td>\n",
              "      <td>multi credit</td>\n",
              "      <td>5</td>\n",
              "      <td>7</td>\n",
              "      <td>6</td>\n",
              "      <td>2</td>\n",
              "      <td>4</td>\n",
              "      <td>6</td>\n",
              "      <td>5.000</td>\n",
              "      <td>not formal</td>\n",
              "      <td>color</td>\n",
              "    </tr>\n",
              "    <tr>\n",
              "      <th>4</th>\n",
              "      <td>5</td>\n",
              "      <td>2</td>\n",
              "      <td>4.6</td>\n",
              "      <td>tenured</td>\n",
              "      <td>not minority</td>\n",
              "      <td>male</td>\n",
              "      <td>english</td>\n",
              "      <td>59</td>\n",
              "      <td>85.00000</td>\n",
              "      <td>17</td>\n",
              "      <td>...</td>\n",
              "      <td>multi credit</td>\n",
              "      <td>4</td>\n",
              "      <td>4</td>\n",
              "      <td>2</td>\n",
              "      <td>2</td>\n",
              "      <td>3</td>\n",
              "      <td>3</td>\n",
              "      <td>3.000</td>\n",
              "      <td>not formal</td>\n",
              "      <td>color</td>\n",
              "    </tr>\n",
              "    <tr>\n",
              "      <th>...</th>\n",
              "      <td>...</td>\n",
              "      <td>...</td>\n",
              "      <td>...</td>\n",
              "      <td>...</td>\n",
              "      <td>...</td>\n",
              "      <td>...</td>\n",
              "      <td>...</td>\n",
              "      <td>...</td>\n",
              "      <td>...</td>\n",
              "      <td>...</td>\n",
              "      <td>...</td>\n",
              "      <td>...</td>\n",
              "      <td>...</td>\n",
              "      <td>...</td>\n",
              "      <td>...</td>\n",
              "      <td>...</td>\n",
              "      <td>...</td>\n",
              "      <td>...</td>\n",
              "      <td>...</td>\n",
              "      <td>...</td>\n",
              "      <td>...</td>\n",
              "    </tr>\n",
              "    <tr>\n",
              "      <th>458</th>\n",
              "      <td>459</td>\n",
              "      <td>93</td>\n",
              "      <td>4.5</td>\n",
              "      <td>tenure track</td>\n",
              "      <td>not minority</td>\n",
              "      <td>male</td>\n",
              "      <td>english</td>\n",
              "      <td>32</td>\n",
              "      <td>60.46511</td>\n",
              "      <td>52</td>\n",
              "      <td>...</td>\n",
              "      <td>multi credit</td>\n",
              "      <td>6</td>\n",
              "      <td>6</td>\n",
              "      <td>9</td>\n",
              "      <td>7</td>\n",
              "      <td>8</td>\n",
              "      <td>5</td>\n",
              "      <td>6.833</td>\n",
              "      <td>not formal</td>\n",
              "      <td>color</td>\n",
              "    </tr>\n",
              "    <tr>\n",
              "      <th>459</th>\n",
              "      <td>460</td>\n",
              "      <td>94</td>\n",
              "      <td>3.5</td>\n",
              "      <td>tenure track</td>\n",
              "      <td>minority</td>\n",
              "      <td>female</td>\n",
              "      <td>non-english</td>\n",
              "      <td>42</td>\n",
              "      <td>57.14286</td>\n",
              "      <td>48</td>\n",
              "      <td>...</td>\n",
              "      <td>multi credit</td>\n",
              "      <td>3</td>\n",
              "      <td>8</td>\n",
              "      <td>7</td>\n",
              "      <td>4</td>\n",
              "      <td>6</td>\n",
              "      <td>4</td>\n",
              "      <td>5.333</td>\n",
              "      <td>not formal</td>\n",
              "      <td>color</td>\n",
              "    </tr>\n",
              "    <tr>\n",
              "      <th>460</th>\n",
              "      <td>461</td>\n",
              "      <td>94</td>\n",
              "      <td>4.4</td>\n",
              "      <td>tenure track</td>\n",
              "      <td>minority</td>\n",
              "      <td>female</td>\n",
              "      <td>non-english</td>\n",
              "      <td>42</td>\n",
              "      <td>77.61194</td>\n",
              "      <td>52</td>\n",
              "      <td>...</td>\n",
              "      <td>multi credit</td>\n",
              "      <td>3</td>\n",
              "      <td>8</td>\n",
              "      <td>7</td>\n",
              "      <td>4</td>\n",
              "      <td>6</td>\n",
              "      <td>4</td>\n",
              "      <td>5.333</td>\n",
              "      <td>not formal</td>\n",
              "      <td>color</td>\n",
              "    </tr>\n",
              "    <tr>\n",
              "      <th>461</th>\n",
              "      <td>462</td>\n",
              "      <td>94</td>\n",
              "      <td>4.4</td>\n",
              "      <td>tenure track</td>\n",
              "      <td>minority</td>\n",
              "      <td>female</td>\n",
              "      <td>non-english</td>\n",
              "      <td>42</td>\n",
              "      <td>81.81818</td>\n",
              "      <td>54</td>\n",
              "      <td>...</td>\n",
              "      <td>multi credit</td>\n",
              "      <td>3</td>\n",
              "      <td>8</td>\n",
              "      <td>7</td>\n",
              "      <td>4</td>\n",
              "      <td>6</td>\n",
              "      <td>4</td>\n",
              "      <td>5.333</td>\n",
              "      <td>not formal</td>\n",
              "      <td>color</td>\n",
              "    </tr>\n",
              "    <tr>\n",
              "      <th>462</th>\n",
              "      <td>463</td>\n",
              "      <td>94</td>\n",
              "      <td>4.1</td>\n",
              "      <td>tenure track</td>\n",
              "      <td>minority</td>\n",
              "      <td>female</td>\n",
              "      <td>non-english</td>\n",
              "      <td>42</td>\n",
              "      <td>80.00000</td>\n",
              "      <td>28</td>\n",
              "      <td>...</td>\n",
              "      <td>one credit</td>\n",
              "      <td>3</td>\n",
              "      <td>8</td>\n",
              "      <td>7</td>\n",
              "      <td>4</td>\n",
              "      <td>6</td>\n",
              "      <td>4</td>\n",
              "      <td>5.333</td>\n",
              "      <td>not formal</td>\n",
              "      <td>color</td>\n",
              "    </tr>\n",
              "  </tbody>\n",
              "</table>\n",
              "<p>463 rows × 23 columns</p>\n",
              "</div>\n",
              "    <div class=\"colab-df-buttons\">\n",
              "\n",
              "  <div class=\"colab-df-container\">\n",
              "    <button class=\"colab-df-convert\" onclick=\"convertToInteractive('df-8a7cfcaa-e621-486c-bb1e-132e06202bb2')\"\n",
              "            title=\"Convert this dataframe to an interactive table.\"\n",
              "            style=\"display:none;\">\n",
              "\n",
              "  <svg xmlns=\"http://www.w3.org/2000/svg\" height=\"24px\" viewBox=\"0 -960 960 960\">\n",
              "    <path d=\"M120-120v-720h720v720H120Zm60-500h600v-160H180v160Zm220 220h160v-160H400v160Zm0 220h160v-160H400v160ZM180-400h160v-160H180v160Zm440 0h160v-160H620v160ZM180-180h160v-160H180v160Zm440 0h160v-160H620v160Z\"/>\n",
              "  </svg>\n",
              "    </button>\n",
              "\n",
              "  <style>\n",
              "    .colab-df-container {\n",
              "      display:flex;\n",
              "      gap: 12px;\n",
              "    }\n",
              "\n",
              "    .colab-df-convert {\n",
              "      background-color: #E8F0FE;\n",
              "      border: none;\n",
              "      border-radius: 50%;\n",
              "      cursor: pointer;\n",
              "      display: none;\n",
              "      fill: #1967D2;\n",
              "      height: 32px;\n",
              "      padding: 0 0 0 0;\n",
              "      width: 32px;\n",
              "    }\n",
              "\n",
              "    .colab-df-convert:hover {\n",
              "      background-color: #E2EBFA;\n",
              "      box-shadow: 0px 1px 2px rgba(60, 64, 67, 0.3), 0px 1px 3px 1px rgba(60, 64, 67, 0.15);\n",
              "      fill: #174EA6;\n",
              "    }\n",
              "\n",
              "    .colab-df-buttons div {\n",
              "      margin-bottom: 4px;\n",
              "    }\n",
              "\n",
              "    [theme=dark] .colab-df-convert {\n",
              "      background-color: #3B4455;\n",
              "      fill: #D2E3FC;\n",
              "    }\n",
              "\n",
              "    [theme=dark] .colab-df-convert:hover {\n",
              "      background-color: #434B5C;\n",
              "      box-shadow: 0px 1px 3px 1px rgba(0, 0, 0, 0.15);\n",
              "      filter: drop-shadow(0px 1px 2px rgba(0, 0, 0, 0.3));\n",
              "      fill: #FFFFFF;\n",
              "    }\n",
              "  </style>\n",
              "\n",
              "    <script>\n",
              "      const buttonEl =\n",
              "        document.querySelector('#df-8a7cfcaa-e621-486c-bb1e-132e06202bb2 button.colab-df-convert');\n",
              "      buttonEl.style.display =\n",
              "        google.colab.kernel.accessAllowed ? 'block' : 'none';\n",
              "\n",
              "      async function convertToInteractive(key) {\n",
              "        const element = document.querySelector('#df-8a7cfcaa-e621-486c-bb1e-132e06202bb2');\n",
              "        const dataTable =\n",
              "          await google.colab.kernel.invokeFunction('convertToInteractive',\n",
              "                                                    [key], {});\n",
              "        if (!dataTable) return;\n",
              "\n",
              "        const docLinkHtml = 'Like what you see? Visit the ' +\n",
              "          '<a target=\"_blank\" href=https://colab.research.google.com/notebooks/data_table.ipynb>data table notebook</a>'\n",
              "          + ' to learn more about interactive tables.';\n",
              "        element.innerHTML = '';\n",
              "        dataTable['output_type'] = 'display_data';\n",
              "        await google.colab.output.renderOutput(dataTable, element);\n",
              "        const docLink = document.createElement('div');\n",
              "        docLink.innerHTML = docLinkHtml;\n",
              "        element.appendChild(docLink);\n",
              "      }\n",
              "    </script>\n",
              "  </div>\n",
              "\n",
              "\n",
              "<div id=\"df-32101a8d-004c-44f0-9763-01ff5e01946f\">\n",
              "  <button class=\"colab-df-quickchart\" onclick=\"quickchart('df-32101a8d-004c-44f0-9763-01ff5e01946f')\"\n",
              "            title=\"Suggest charts.\"\n",
              "            style=\"display:none;\">\n",
              "\n",
              "<svg xmlns=\"http://www.w3.org/2000/svg\" height=\"24px\"viewBox=\"0 0 24 24\"\n",
              "     width=\"24px\">\n",
              "    <g>\n",
              "        <path d=\"M19 3H5c-1.1 0-2 .9-2 2v14c0 1.1.9 2 2 2h14c1.1 0 2-.9 2-2V5c0-1.1-.9-2-2-2zM9 17H7v-7h2v7zm4 0h-2V7h2v10zm4 0h-2v-4h2v4z\"/>\n",
              "    </g>\n",
              "</svg>\n",
              "  </button>\n",
              "\n",
              "<style>\n",
              "  .colab-df-quickchart {\n",
              "    background-color: #E8F0FE;\n",
              "    border: none;\n",
              "    border-radius: 50%;\n",
              "    cursor: pointer;\n",
              "    display: none;\n",
              "    fill: #1967D2;\n",
              "    height: 32px;\n",
              "    padding: 0 0 0 0;\n",
              "    width: 32px;\n",
              "  }\n",
              "\n",
              "  .colab-df-quickchart:hover {\n",
              "    background-color: #E2EBFA;\n",
              "    box-shadow: 0px 1px 2px rgba(60, 64, 67, 0.3), 0px 1px 3px 1px rgba(60, 64, 67, 0.15);\n",
              "    fill: #174EA6;\n",
              "  }\n",
              "\n",
              "  [theme=dark] .colab-df-quickchart {\n",
              "    background-color: #3B4455;\n",
              "    fill: #D2E3FC;\n",
              "  }\n",
              "\n",
              "  [theme=dark] .colab-df-quickchart:hover {\n",
              "    background-color: #434B5C;\n",
              "    box-shadow: 0px 1px 3px 1px rgba(0, 0, 0, 0.15);\n",
              "    filter: drop-shadow(0px 1px 2px rgba(0, 0, 0, 0.3));\n",
              "    fill: #FFFFFF;\n",
              "  }\n",
              "</style>\n",
              "\n",
              "  <script>\n",
              "    async function quickchart(key) {\n",
              "      const charts = await google.colab.kernel.invokeFunction(\n",
              "          'suggestCharts', [key], {});\n",
              "    }\n",
              "    (() => {\n",
              "      let quickchartButtonEl =\n",
              "        document.querySelector('#df-32101a8d-004c-44f0-9763-01ff5e01946f button');\n",
              "      quickchartButtonEl.style.display =\n",
              "        google.colab.kernel.accessAllowed ? 'block' : 'none';\n",
              "    })();\n",
              "  </script>\n",
              "</div>\n",
              "    </div>\n",
              "  </div>\n"
            ]
          },
          "metadata": {},
          "execution_count": 4
        }
      ],
      "source": [
        "import pandas as pd\n",
        "import matplotlib.pyplot as plt\n",
        "df = pd.read_csv(\"evals.csv\")\n",
        "df\n"
      ]
    },
    {
      "cell_type": "code",
      "source": [
        "plt.figure(figsize=(8, 6))\n",
        "plt.hist(df['score'], bins=15, edgecolor='black', alpha=0.7)\n",
        "plt.xlabel('Evaluation Score')\n",
        "plt.ylabel('Frequency')\n",
        "plt.title('Distribution of Evaluation Scores')\n",
        "plt.grid(True)\n",
        "plt.show()\n"
      ],
      "metadata": {
        "colab": {
          "base_uri": "https://localhost:8080/",
          "height": 564
        },
        "id": "6K86CipCfsOR",
        "outputId": "953b5088-49de-4364-d614-07c5e677f1e4"
      },
      "execution_count": null,
      "outputs": [
        {
          "output_type": "display_data",
          "data": {
            "text/plain": [
              "<Figure size 800x600 with 1 Axes>"
            ],
            "image/png": "[encoded data removed]"
          },
          "metadata": {}
        }
      ]
    },
    {
      "cell_type": "markdown",
      "source": [
        "**Since, the histogram is skewed to the right (positive skew), it indicates that most professors have lower evaluation scores.**"
      ],
      "metadata": {
        "id": "GyG_BKudgaga"
      }
    },
    {
      "cell_type": "markdown",
      "source": [
        "**2. It is assumed that good looking professors have better scores. Make a plot to see the relation between the scores and the average beauty values. What do you infer from this plot?**"
      ],
      "metadata": {
        "id": "dk25DWtWhI3J"
      }
    },
    {
      "cell_type": "code",
      "source": [
        "plt.figure(figsize=(8, 6))\n",
        "plt.scatter(df['bty_avg'], df['score'], alpha=0.5)\n",
        "plt.xlabel('Average Beauty Rating')\n",
        "plt.ylabel('Evaluation Score')\n",
        "plt.title('Relation between Scores and Average Beauty Values')\n",
        "plt.grid(True)\n",
        "plt.show()"
      ],
      "metadata": {
        "colab": {
          "base_uri": "https://localhost:8080/",
          "height": 564
        },
        "id": "0uow3oDPfwTL",
        "outputId": "37c022bb-6ef1-47e7-f51f-f59a14b095eb"
      },
      "execution_count": null,
      "outputs": [
        {
          "output_type": "display_data",
          "data": {
            "text/plain": [
              "<Figure size 800x600 with 1 Axes>"
            ],
            "image/png": "[encoded data removed]"
          },
          "metadata": {}
        }
      ]
    },
    {
      "cell_type": "markdown",
      "source": [
        "**There is no clear pattern or trend between the two variables, it suggests that there might not be a strong relationship between average beauty ratings and evaluation scores.**"
      ],
      "metadata": {
        "id": "nTRuYDafhnrZ"
      }
    },
    {
      "cell_type": "markdown",
      "source": [
        "**3.Fit a linear model to this plot and list out the coefficients (intercept and slope).**"
      ],
      "metadata": {
        "id": "58jnOhCsh7Xx"
      }
    },
    {
      "cell_type": "code",
      "source": [
        "from sklearn.model_selection import train_test_split\n",
        "from sklearn.linear_model import LinearRegression\n",
        "\n",
        "X = df['bty_avg'].values.reshape(-1, 1)\n",
        "y = df['score'].values\n",
        "\n",
        "X_train, X_test, y_train, y_test = train_test_split(X, y, train_size=0.8, random_state=42)\n",
        "\n",
        "\n",
        "model = LinearRegression()\n",
        "\n",
        "model.fit(X_train, y_train)\n",
        "\n",
        "intercept = model.intercept_\n",
        "slope = model.coef_[0]\n",
        "\n",
        "print(\"Intercept:\", intercept)\n",
        "print(\"Slope:\", slope)\n"
      ],
      "metadata": {
        "colab": {
          "base_uri": "https://localhost:8080/"
        },
        "id": "DH4rZHYvhV6Q",
        "outputId": "e8b254fb-c7aa-4c6b-a7e5-a5e57facc862"
      },
      "execution_count": null,
      "outputs": [
        {
          "output_type": "stream",
          "name": "stdout",
          "text": [
            "Intercept: 3.9556287004717063\n",
            "Slope: 0.05324566631910744\n"
          ]
        }
      ]
    },
    {
      "cell_type": "markdown",
      "source": [
        "**4.From this model what do you infer from the slope. Does the average beauty rating make a significant predictor variable?**\n",
        "\n",
        "\n",
        "Here, the slope is positive and statistically significant, it suggests that as the average beauty rating increases, the evaluation score tends to increase as well."
      ],
      "metadata": {
        "id": "CZTlGGkkjZDy"
      }
    },
    {
      "cell_type": "code",
      "source": [
        "import statsmodels.api as sm\n",
        "\n",
        "X_train, X_test, y_train, y_test = train_test_split(X, y, test_size=0.2, random_state=42)\n",
        "\n",
        "X_train = sm.add_constant(X_train)\n",
        "\n",
        "model = sm.OLS(y_train, X_train).fit()\n",
        "\n",
        "p_value = model.pvalues['bty_avg']\n",
        "\n",
        "print(\"P-value:\", p_value)\n",
        "\n",
        "if p_value < 0.05:\n",
        "    print(\"Average beauty rating is a significant predictor.\")\n",
        "else:\n",
        "    print(\"Average beauty rating is not a significant predictor.\")\n"
      ],
      "metadata": {
        "colab": {
          "base_uri": "https://localhost:8080/"
        },
        "id": "Nu5EIjfUixAJ",
        "outputId": "809a3945-7f19-4146-9b93-a602a993bd31"
      },
      "execution_count": null,
      "outputs": [
        {
          "output_type": "stream",
          "name": "stdout",
          "text": [
            "P-value: 0.004002889562308857\n",
            "Average beauty rating is a significant predictor.\n"
          ]
        }
      ]
    },
    {
      "cell_type": "markdown",
      "source": [
        "**5.Multiple Linear Regression**"
      ],
      "metadata": {
        "id": "9VJvATifloQy"
      }
    },
    {
      "cell_type": "code",
      "source": [
        "X = df[['bty_avg', 'age', 'gender']]\n",
        "y = df['score']\n",
        "\n",
        "X = pd.get_dummies(X, columns=['gender'], drop_first=True)\n",
        "\n",
        "X_train, X_test, y_train, y_test = train_test_split(X, y, test_size=0.2, random_state=42)\n",
        "\n",
        "X_train = sm.add_constant(X_train)\n",
        "\n",
        "model = sm.OLS(y_train, X_train).fit()\n",
        "\n",
        "print(model.summary())\n"
      ],
      "metadata": {
        "colab": {
          "base_uri": "https://localhost:8080/"
        },
        "id": "ErqZvGCLjgEh",
        "outputId": "8d3a4c59-e732-4639-c98f-70df2428a96b"
      },
      "execution_count": null,
      "outputs": [
        {
          "output_type": "stream",
          "name": "stdout",
          "text": [
            "                            OLS Regression Results                            \n",
            "==============================================================================\n",
            "Dep. Variable:                  score   R-squared:                       0.066\n",
            "Model:                            OLS   Adj. R-squared:                  0.058\n",
            "Method:                 Least Squares   F-statistic:                     8.564\n",
            "Date:                Tue, 29 Aug 2023   Prob (F-statistic):           1.65e-05\n",
            "Time:                        09:23:15   Log-Likelihood:                -283.24\n",
            "No. Observations:                 370   AIC:                             574.5\n",
            "Df Residuals:                     366   BIC:                             590.1\n",
            "Df Model:                           3                                         \n",
            "Covariance Type:            nonrobust                                         \n",
            "===============================================================================\n",
            "                  coef    std err          t      P>|t|      [0.025      0.975]\n",
            "-------------------------------------------------------------------------------\n",
            "const           4.1872      0.185     22.580      0.000       3.823       4.552\n",
            "bty_avg         0.0511      0.019      2.715      0.007       0.014       0.088\n",
            "age            -0.0072      0.003     -2.391      0.017      -0.013      -0.001\n",
            "gender_male     0.2213      0.058      3.837      0.000       0.108       0.335\n",
            "==============================================================================\n",
            "Omnibus:                       23.495   Durbin-Watson:                   1.945\n",
            "Prob(Omnibus):                  0.000   Jarque-Bera (JB):               26.829\n",
            "Skew:                          -0.659   Prob(JB):                     1.49e-06\n",
            "Kurtosis:                       2.955   Cond. No.                         340.\n",
            "==============================================================================\n",
            "\n",
            "Notes:\n",
            "[1] Standard Errors assume that the covariance matrix of the errors is correctly specified.\n"
          ]
        }
      ]
    },
    {
      "cell_type": "markdown",
      "source": [
        "**6.Identify the co-relation between the average beauty value and b_f1upper. What do you infer from this**"
      ],
      "metadata": {
        "id": "rKFHyAh7m3qJ"
      }
    },
    {
      "cell_type": "code",
      "source": [
        "correlation = df['bty_avg'].corr(df['bty_f1upper'])\n",
        "\n",
        "print(\"Correlation:\", correlation)"
      ],
      "metadata": {
        "colab": {
          "base_uri": "https://localhost:8080/"
        },
        "id": "OZTjOvPPlvTZ",
        "outputId": "adada0b7-b5c2-4e99-b4c7-190198f387e4"
      },
      "execution_count": null,
      "outputs": [
        {
          "output_type": "stream",
          "name": "stdout",
          "text": [
            "Correlation: 0.8437283710770256\n"
          ]
        }
      ]
    },
    {
      "cell_type": "markdown",
      "source": [
        "**Here, the correlation is close to 1, it indicates a strong positive correlation, implying that as the 'bty_avg' increases, the 'bty_f1upper' rating tends to increase as well.**"
      ],
      "metadata": {
        "id": "_BmwdTLKnSBq"
      }
    },
    {
      "cell_type": "markdown",
      "source": [
        "**7. Also identify the co-relation between the following attributes: beauty_f1lower,beauty_f1upper,beauty_f2upper,beauty_m1lower,beauty_m1upper,beauty_m2upper,beauty_avg**"
      ],
      "metadata": {
        "id": "v-BinJ-wn_Xx"
      }
    },
    {
      "cell_type": "code",
      "source": [
        "import seaborn as sns\n",
        "attributes = ['bty_f1lower', 'bty_f1upper', 'bty_f2upper', 'bty_m1lower', 'bty_m1upper', 'bty_m2upper', 'bty_avg']\n",
        "\n",
        "correlation_matrix = df[attributes].corr()\n",
        "\n",
        "print(\"Correlation Matrix:\")\n",
        "display(correlation_matrix)\n",
        "print()\n",
        "\n",
        "plt.figure(figsize=(10, 8))\n",
        "sns.heatmap(correlation_matrix, annot=True, cmap='coolwarm', center=0)\n",
        "plt.title('Correlation Matrix Heatmap')\n",
        "plt.show()\n"
      ],
      "metadata": {
        "colab": {
          "base_uri": "https://localhost:8080/",
          "height": 1000
        },
        "id": "_v-a9SxOl3rI",
        "outputId": "e74cbdec-8bbd-4812-9160-70467fcd060a"
      },
      "execution_count": null,
      "outputs": [
        {
          "output_type": "stream",
          "name": "stdout",
          "text": [
            "Correlation Matrix:\n"
          ]
        },
        {
          "output_type": "display_data",
          "data": {
            "text/plain": [
              "             bty_f1lower  bty_f1upper  bty_f2upper  bty_m1lower  bty_m1upper  \\\n",
              "bty_f1lower     1.000000     0.619392     0.641927     0.612426     0.676695   \n",
              "bty_f1upper     0.619392     1.000000     0.648152     0.598928     0.690617   \n",
              "bty_f2upper     0.641927     0.648152     1.000000     0.535983     0.649640   \n",
              "bty_m1lower     0.612426     0.598928     0.535983     1.000000     0.595085   \n",
              "bty_m1upper     0.676695     0.690617     0.649640     0.595085     1.000000   \n",
              "bty_m2upper     0.593766     0.565576     0.513062     0.540893     0.586506   \n",
              "bty_avg         0.843911     0.843728     0.821850     0.778351     0.864640   \n",
              "\n",
              "             bty_m2upper   bty_avg  \n",
              "bty_f1lower     0.593766  0.843911  \n",
              "bty_f1upper     0.565576  0.843728  \n",
              "bty_f2upper     0.513062  0.821850  \n",
              "bty_m1lower     0.540893  0.778351  \n",
              "bty_m1upper     0.586506  0.864640  \n",
              "bty_m2upper     1.000000  0.757346  \n",
              "bty_avg         0.757346  1.000000  "
            ],
            "text/html": [
              "\n",
              "  <div id=\"df-240b8bbe-fc10-4500-98c2-629939d79af9\" class=\"colab-df-container\">\n",
              "    <div>\n",
              "<style scoped>\n",
              "    .dataframe tbody tr th:only-of-type {\n",
              "        vertical-align: middle;\n",
              "    }\n",
              "\n",
              "    .dataframe tbody tr th {\n",
              "        vertical-align: top;\n",
              "    }\n",
              "\n",
              "    .dataframe thead th {\n",
              "        text-align: right;\n",
              "    }\n",
              "</style>\n",
              "<table border=\"1\" class=\"dataframe\">\n",
              "  <thead>\n",
              "    <tr style=\"text-align: right;\">\n",
              "      <th></th>\n",
              "      <th>bty_f1lower</th>\n",
              "      <th>bty_f1upper</th>\n",
              "      <th>bty_f2upper</th>\n",
              "      <th>bty_m1lower</th>\n",
              "      <th>bty_m1upper</th>\n",
              "      <th>bty_m2upper</th>\n",
              "      <th>bty_avg</th>\n",
              "    </tr>\n",
              "  </thead>\n",
              "  <tbody>\n",
              "    <tr>\n",
              "      <th>bty_f1lower</th>\n",
              "      <td>1.000000</td>\n",
              "      <td>0.619392</td>\n",
              "      <td>0.641927</td>\n",
              "      <td>0.612426</td>\n",
              "      <td>0.676695</td>\n",
              "      <td>0.593766</td>\n",
              "      <td>0.843911</td>\n",
              "    </tr>\n",
              "    <tr>\n",
              "      <th>bty_f1upper</th>\n",
              "      <td>0.619392</td>\n",
              "      <td>1.000000</td>\n",
              "      <td>0.648152</td>\n",
              "      <td>0.598928</td>\n",
              "      <td>0.690617</td>\n",
              "      <td>0.565576</td>\n",
              "      <td>0.843728</td>\n",
              "    </tr>\n",
              "    <tr>\n",
              "      <th>bty_f2upper</th>\n",
              "      <td>0.641927</td>\n",
              "      <td>0.648152</td>\n",
              "      <td>1.000000</td>\n",
              "      <td>0.535983</td>\n",
              "      <td>0.649640</td>\n",
              "      <td>0.513062</td>\n",
              "      <td>0.821850</td>\n",
              "    </tr>\n",
              "    <tr>\n",
              "      <th>bty_m1lower</th>\n",
              "      <td>0.612426</td>\n",
              "      <td>0.598928</td>\n",
              "      <td>0.535983</td>\n",
              "      <td>1.000000</td>\n",
              "      <td>0.595085</td>\n",
              "      <td>0.540893</td>\n",
              "      <td>0.778351</td>\n",
              "    </tr>\n",
              "    <tr>\n",
              "      <th>bty_m1upper</th>\n",
              "      <td>0.676695</td>\n",
              "      <td>0.690617</td>\n",
              "      <td>0.649640</td>\n",
              "      <td>0.595085</td>\n",
              "      <td>1.000000</td>\n",
              "      <td>0.586506</td>\n",
              "      <td>0.864640</td>\n",
              "    </tr>\n",
              "    <tr>\n",
              "      <th>bty_m2upper</th>\n",
              "      <td>0.593766</td>\n",
              "      <td>0.565576</td>\n",
              "      <td>0.513062</td>\n",
              "      <td>0.540893</td>\n",
              "      <td>0.586506</td>\n",
              "      <td>1.000000</td>\n",
              "      <td>0.757346</td>\n",
              "    </tr>\n",
              "    <tr>\n",
              "      <th>bty_avg</th>\n",
              "      <td>0.843911</td>\n",
              "      <td>0.843728</td>\n",
              "      <td>0.821850</td>\n",
              "      <td>0.778351</td>\n",
              "      <td>0.864640</td>\n",
              "      <td>0.757346</td>\n",
              "      <td>1.000000</td>\n",
              "    </tr>\n",
              "  </tbody>\n",
              "</table>\n",
              "</div>\n",
              "    <div class=\"colab-df-buttons\">\n",
              "\n",
              "  <div class=\"colab-df-container\">\n",
              "    <button class=\"colab-df-convert\" onclick=\"convertToInteractive('df-240b8bbe-fc10-4500-98c2-629939d79af9')\"\n",
              "            title=\"Convert this dataframe to an interactive table.\"\n",
              "            style=\"display:none;\">\n",
              "\n",
              "  <svg xmlns=\"http://www.w3.org/2000/svg\" height=\"24px\" viewBox=\"0 -960 960 960\">\n",
              "    <path d=\"M120-120v-720h720v720H120Zm60-500h600v-160H180v160Zm220 220h160v-160H400v160Zm0 220h160v-160H400v160ZM180-400h160v-160H180v160Zm440 0h160v-160H620v160ZM180-180h160v-160H180v160Zm440 0h160v-160H620v160Z\"/>\n",
              "  </svg>\n",
              "    </button>\n",
              "\n",
              "  <style>\n",
              "    .colab-df-container {\n",
              "      display:flex;\n",
              "      gap: 12px;\n",
              "    }\n",
              "\n",
              "    .colab-df-convert {\n",
              "      background-color: #E8F0FE;\n",
              "      border: none;\n",
              "      border-radius: 50%;\n",
              "      cursor: pointer;\n",
              "      display: none;\n",
              "      fill: #1967D2;\n",
              "      height: 32px;\n",
              "      padding: 0 0 0 0;\n",
              "      width: 32px;\n",
              "    }\n",
              "\n",
              "    .colab-df-convert:hover {\n",
              "      background-color: #E2EBFA;\n",
              "      box-shadow: 0px 1px 2px rgba(60, 64, 67, 0.3), 0px 1px 3px 1px rgba(60, 64, 67, 0.15);\n",
              "      fill: #174EA6;\n",
              "    }\n",
              "\n",
              "    .colab-df-buttons div {\n",
              "      margin-bottom: 4px;\n",
              "    }\n",
              "\n",
              "    [theme=dark] .colab-df-convert {\n",
              "      background-color: #3B4455;\n",
              "      fill: #D2E3FC;\n",
              "    }\n",
              "\n",
              "    [theme=dark] .colab-df-convert:hover {\n",
              "      background-color: #434B5C;\n",
              "      box-shadow: 0px 1px 3px 1px rgba(0, 0, 0, 0.15);\n",
              "      filter: drop-shadow(0px 1px 2px rgba(0, 0, 0, 0.3));\n",
              "      fill: #FFFFFF;\n",
              "    }\n",
              "  </style>\n",
              "\n",
              "    <script>\n",
              "      const buttonEl =\n",
              "        document.querySelector('#df-240b8bbe-fc10-4500-98c2-629939d79af9 button.colab-df-convert');\n",
              "      buttonEl.style.display =\n",
              "        google.colab.kernel.accessAllowed ? 'block' : 'none';\n",
              "\n",
              "      async function convertToInteractive(key) {\n",
              "        const element = document.querySelector('#df-240b8bbe-fc10-4500-98c2-629939d79af9');\n",
              "        const dataTable =\n",
              "          await google.colab.kernel.invokeFunction('convertToInteractive',\n",
              "                                                    [key], {});\n",
              "        if (!dataTable) return;\n",
              "\n",
              "        const docLinkHtml = 'Like what you see? Visit the ' +\n",
              "          '<a target=\"_blank\" href=https://colab.research.google.com/notebooks/data_table.ipynb>data table notebook</a>'\n",
              "          + ' to learn more about interactive tables.';\n",
              "        element.innerHTML = '';\n",
              "        dataTable['output_type'] = 'display_data';\n",
              "        await google.colab.output.renderOutput(dataTable, element);\n",
              "        const docLink = document.createElement('div');\n",
              "        docLink.innerHTML = docLinkHtml;\n",
              "        element.appendChild(docLink);\n",
              "      }\n",
              "    </script>\n",
              "  </div>\n",
              "\n",
              "\n",
              "<div id=\"df-5e982a9a-beac-4808-bfdb-dd73b4c26b57\">\n",
              "  <button class=\"colab-df-quickchart\" onclick=\"quickchart('df-5e982a9a-beac-4808-bfdb-dd73b4c26b57')\"\n",
              "            title=\"Suggest charts.\"\n",
              "            style=\"display:none;\">\n",
              "\n",
              "<svg xmlns=\"http://www.w3.org/2000/svg\" height=\"24px\"viewBox=\"0 0 24 24\"\n",
              "     width=\"24px\">\n",
              "    <g>\n",
              "        <path d=\"M19 3H5c-1.1 0-2 .9-2 2v14c0 1.1.9 2 2 2h14c1.1 0 2-.9 2-2V5c0-1.1-.9-2-2-2zM9 17H7v-7h2v7zm4 0h-2V7h2v10zm4 0h-2v-4h2v4z\"/>\n",
              "    </g>\n",
              "</svg>\n",
              "  </button>\n",
              "\n",
              "<style>\n",
              "  .colab-df-quickchart {\n",
              "    background-color: #E8F0FE;\n",
              "    border: none;\n",
              "    border-radius: 50%;\n",
              "    cursor: pointer;\n",
              "    display: none;\n",
              "    fill: #1967D2;\n",
              "    height: 32px;\n",
              "    padding: 0 0 0 0;\n",
              "    width: 32px;\n",
              "  }\n",
              "\n",
              "  .colab-df-quickchart:hover {\n",
              "    background-color: #E2EBFA;\n",
              "    box-shadow: 0px 1px 2px rgba(60, 64, 67, 0.3), 0px 1px 3px 1px rgba(60, 64, 67, 0.15);\n",
              "    fill: #174EA6;\n",
              "  }\n",
              "\n",
              "  [theme=dark] .colab-df-quickchart {\n",
              "    background-color: #3B4455;\n",
              "    fill: #D2E3FC;\n",
              "  }\n",
              "\n",
              "  [theme=dark] .colab-df-quickchart:hover {\n",
              "    background-color: #434B5C;\n",
              "    box-shadow: 0px 1px 3px 1px rgba(0, 0, 0, 0.15);\n",
              "    filter: drop-shadow(0px 1px 2px rgba(0, 0, 0, 0.3));\n",
              "    fill: #FFFFFF;\n",
              "  }\n",
              "</style>\n",
              "\n",
              "  <script>\n",
              "    async function quickchart(key) {\n",
              "      const charts = await google.colab.kernel.invokeFunction(\n",
              "          'suggestCharts', [key], {});\n",
              "    }\n",
              "    (() => {\n",
              "      let quickchartButtonEl =\n",
              "        document.querySelector('#df-5e982a9a-beac-4808-bfdb-dd73b4c26b57 button');\n",
              "      quickchartButtonEl.style.display =\n",
              "        google.colab.kernel.accessAllowed ? 'block' : 'none';\n",
              "    })();\n",
              "  </script>\n",
              "</div>\n",
              "    </div>\n",
              "  </div>\n"
            ]
          },
          "metadata": {}
        },
        {
          "output_type": "stream",
          "name": "stdout",
          "text": [
            "\n"
          ]
        },
        {
          "output_type": "display_data",
          "data": {
            "text/plain": [
              "<Figure size 1000x800 with 2 Axes>"
            ],
            "image/png": "[encoded data removed]"
          },
          "metadata": {}
        }
      ]
    },
    {
      "cell_type": "markdown",
      "source": [
        "**8. What do you infer from the co-relation that arrives from Q7**\n",
        "\n",
        "**Positive Correlations:**\n",
        "\n",
        "Positive correlations near 1 suggest a strong positive relationship between the attributes.\n",
        "For example, a strong positive correlation between 'bty_f1lower' and 'bty_f1upper' indicates that if a professor is rated highly in one beauty category (lower level), they are likely to be rated highly in the other beauty category (upper level).\n",
        "\n",
        "**Negative Correlations:**\n",
        "\n",
        "Negative correlations near -1 suggest a strong negative relationship between the attributes.\n",
        "A strong negative correlation between 'bty_f1lower' and 'bty_m1lower' could indicate that if a female professor is rated highly in the lower level beauty category, a male professor is likely to be rated lower in the same category.\n",
        "\n",
        "**Correlations Near 0:**\n",
        "\n",
        "Correlations near 0 suggest little to no linear relationship between the attributes.\n",
        "For example, a correlation near 0 between 'bty_f1lower' and 'bty_f2upper' indicates that these two beauty categories might not be strongly related."
      ],
      "metadata": {
        "id": "6880TplAot1K"
      }
    },
    {
      "cell_type": "markdown",
      "source": [
        "**9. Make a multilinear model that fits (score,age Eval_completed_perc , No_completed_eval, Total_no_students, beauty_f1lower,beauty_f1upper,beauty_f2upper,beauty_m1lower,beauty_m1upper,beauty_m2upper,beauty_avg) attributes in the given data set**"
      ],
      "metadata": {
        "id": "T9p-32uTqFJz"
      }
    },
    {
      "cell_type": "code",
      "source": [
        "attributes = ['age', 'cls_perc_eval', 'cls_did_eval', 'cls_students',\n",
        "              'bty_f1lower', 'bty_f1upper', 'bty_f2upper', 'bty_m1lower',\n",
        "              'bty_m1upper', 'bty_m2upper', 'bty_avg']\n",
        "X = df[attributes]\n",
        "y = df['score']\n",
        "\n",
        "X_train, X_test, y_train, y_test = train_test_split(X, y, test_size=0.2, random_state=42)\n",
        "\n",
        "X_train = sm.add_constant(X_train)\n",
        "\n",
        "model = sm.OLS(y_train, X_train).fit()\n",
        "\n",
        "print(model.summary())\n"
      ],
      "metadata": {
        "colab": {
          "base_uri": "https://localhost:8080/"
        },
        "id": "vzARAE2Gn7qX",
        "outputId": "58e21809-14d1-4627-c6e2-2afbc50124b4"
      },
      "execution_count": null,
      "outputs": [
        {
          "output_type": "stream",
          "name": "stdout",
          "text": [
            "                            OLS Regression Results                            \n",
            "==============================================================================\n",
            "Dep. Variable:                  score   R-squared:                       0.074\n",
            "Model:                            OLS   Adj. R-squared:                  0.045\n",
            "Method:                 Least Squares   F-statistic:                     2.592\n",
            "Date:                Tue, 29 Aug 2023   Prob (F-statistic):            0.00350\n",
            "Time:                        09:39:50   Log-Likelihood:                -281.61\n",
            "No. Observations:                 370   AIC:                             587.2\n",
            "Df Residuals:                     358   BIC:                             634.2\n",
            "Df Model:                          11                                         \n",
            "Covariance Type:            nonrobust                                         \n",
            "=================================================================================\n",
            "                    coef    std err          t      P>|t|      [0.025      0.975]\n",
            "---------------------------------------------------------------------------------\n",
            "const             3.8660      0.267     14.486      0.000       3.341       4.391\n",
            "age              -0.0037      0.003     -1.109      0.268      -0.010       0.003\n",
            "cls_perc_eval     0.0041      0.002      1.648      0.100      -0.001       0.009\n",
            "cls_did_eval      0.0026      0.004      0.686      0.493      -0.005       0.010\n",
            "cls_students     -0.0008      0.002     -0.338      0.736      -0.005       0.004\n",
            "bty_f1lower      16.8834     17.768      0.950      0.343     -18.059      51.826\n",
            "bty_f1upper      16.8948     17.763      0.951      0.342     -18.038      51.828\n",
            "bty_f2upper      16.8805     17.766      0.950      0.343     -18.057      51.819\n",
            "bty_m1lower      16.8277     17.765      0.947      0.344     -18.109      51.764\n",
            "bty_m1upper      16.8923     17.765      0.951      0.342     -18.045      51.829\n",
            "bty_m2upper      16.8764     17.761      0.950      0.343     -18.052      51.805\n",
            "bty_avg        -101.2371    106.591     -0.950      0.343    -310.860     108.386\n",
            "==============================================================================\n",
            "Omnibus:                       26.095   Durbin-Watson:                   2.026\n",
            "Prob(Omnibus):                  0.000   Jarque-Bera (JB):               29.907\n",
            "Skew:                          -0.693   Prob(JB):                     3.20e-07\n",
            "Kurtosis:                       3.147   Cond. No.                     5.13e+05\n",
            "==============================================================================\n",
            "\n",
            "Notes:\n",
            "[1] Standard Errors assume that the covariance matrix of the errors is correctly specified.\n",
            "[2] The condition number is large, 5.13e+05. This might indicate that there are\n",
            "strong multicollinearity or other numerical problems.\n"
          ]
        }
      ]
    },
    {
      "cell_type": "markdown",
      "source": [
        "**10. List out the standard error for each attribute above and write down what you infer from that**"
      ],
      "metadata": {
        "id": "HHnTLve1qyC7"
      }
    },
    {
      "cell_type": "code",
      "source": [
        "standard_errors = model.bse\n",
        "\n",
        "print(\"Standard Errors:\")\n",
        "print(standard_errors)"
      ],
      "metadata": {
        "colab": {
          "base_uri": "https://localhost:8080/"
        },
        "id": "IUuBnJGAqQTR",
        "outputId": "155521dc-596d-4e7a-bdaf-809cddec30f5"
      },
      "execution_count": null,
      "outputs": [
        {
          "output_type": "stream",
          "name": "stdout",
          "text": [
            "Standard Errors:\n",
            "const              0.266884\n",
            "age                0.003333\n",
            "cls_perc_eval      0.002489\n",
            "cls_did_eval       0.003783\n",
            "cls_students       0.002367\n",
            "bty_f1lower       17.768025\n",
            "bty_f1upper       17.762947\n",
            "bty_f2upper       17.765566\n",
            "bty_m1lower       17.764922\n",
            "bty_m1upper       17.765086\n",
            "bty_m2upper       17.760743\n",
            "bty_avg          106.590756\n",
            "dtype: float64\n"
          ]
        }
      ]
    },
    {
      "cell_type": "markdown",
      "source": [
        "\n",
        "\n",
        "*   Smaller standard errors indicate more precise estimates, while larger standard errors suggest less precise estimates.\n",
        "\n",
        "*   If the standard error of a coefficient is relatively large, it suggests that the estimate of that coefficient might not be very reliable.\n",
        "\n"
      ],
      "metadata": {
        "id": "t5O8fPXzrHJL"
      }
    },
    {
      "cell_type": "code",
      "source": [
        "from sklearn.metrics import mean_squared_error, r2_score\n",
        "\n",
        "X_test = sm.add_constant(X_test)\n",
        "y_pred = model.predict(X_test)\n",
        "\n",
        "mse = mean_squared_error(y_test, y_pred)\n",
        "\n",
        "r2 = r2_score(y_test, y_pred)\n",
        "\n",
        "print(\"Mean Squared Error (MSE):\", mse)\n",
        "print(\"R-squared (R2):\", r2)"
      ],
      "metadata": {
        "colab": {
          "base_uri": "https://localhost:8080/"
        },
        "id": "lvUH5K4EqwL5",
        "outputId": "dd3483cf-7655-4e8c-ec1d-eab4ee53e77d"
      },
      "execution_count": null,
      "outputs": [
        {
          "output_type": "stream",
          "name": "stdout",
          "text": [
            "Mean Squared Error (MSE): 0.297706568628065\n",
            "R-squared (R2): 0.051762117070606406\n"
          ]
        }
      ]
    },
    {
      "cell_type": "markdown",
      "source": [
        "**Since MSE is low and R2 value is high, this indicates better model performance.**"
      ],
      "metadata": {
        "id": "FoYJCaoIr-nD"
      }
    },
    {
      "cell_type": "markdown",
      "source": [
        "**12.Standard errors are inflated because of multicollinearity with other variables in the model, using what are called variance inflation factors (or VIFs). Another way is to used VIF to estimate the mutli-collinerarity A variance inflation factor(VIF) detects multicollinearity in regression analysis. Multicollinearity is when there’s correlation between predictors (i.e. independent variables) in a model; it’s presence can adversely affect your regression results. Multicollinearity is when there’s correlation between predictors (i.e. independent variables) in a model; it’s presence can adversely affect your regression results. The easy way to obtain VIFs is using the vif function from the car package (Fox, 2003). Run the following code!**\n",
        "\n",
        "**A rule of thumb for interpreting the variance inflation factor:**\n",
        "\n",
        "1 = Not correlated (Little to no multicollinearity).\n",
        "\n",
        "Between 1 and 5 = Moderately correlated (Moderate multicollinearity).\n",
        "\n",
        "Greater than 5 = Highly correlated (Potentially high multicollinearity)."
      ],
      "metadata": {
        "id": "GoiN5GYRtc1r"
      }
    },
    {
      "cell_type": "code",
      "source": [
        "from statsmodels.stats.outliers_influence import variance_inflation_factor\n",
        "\n",
        "X = df[attributes]\n",
        "\n",
        "X = sm.add_constant(X)\n",
        "\n",
        "vif_data = pd.DataFrame()\n",
        "vif_data[\"Variable\"] = X.columns\n",
        "vif_data[\"VIF\"] = [variance_inflation_factor(X.values, i) for i in range(X.shape[1])]\n",
        "\n",
        "print(vif_data)"
      ],
      "metadata": {
        "colab": {
          "base_uri": "https://localhost:8080/"
        },
        "id": "qj0VVLxnrf9q",
        "outputId": "6ed14234-fc73-4088-f58b-520c10a0b5a3"
      },
      "execution_count": null,
      "outputs": [
        {
          "output_type": "stream",
          "name": "stdout",
          "text": [
            "         Variable           VIF\n",
            "0           const  9.559668e+01\n",
            "1             age  1.400105e+00\n",
            "2   cls_perc_eval  2.291530e+00\n",
            "3    cls_did_eval  3.501024e+01\n",
            "4    cls_students  3.803838e+01\n",
            "5     bty_f1lower  1.440490e+06\n",
            "6     bty_f1upper  1.534151e+06\n",
            "7     bty_f2upper  1.670230e+06\n",
            "8     bty_m1lower  1.098928e+06\n",
            "9     bty_m1upper  1.826803e+06\n",
            "10    bty_m2upper  1.017048e+06\n",
            "11        bty_avg  3.443876e+07\n"
          ]
        }
      ]
    },
    {
      "cell_type": "markdown",
      "source": [
        "**13.What do you infer from the VIF values?**\n",
        "\n",
        "**Interpretation of the above VIF values:**\n",
        "\n",
        "'const': 95.60 (Highly correlated)\n",
        "\n",
        "'age': 1.40 (Not correlated)\n",
        "\n",
        "'cls_perc_eval': 2.29 (Not correlated)\n",
        "\n",
        "\n",
        "'cls_did_eval': 35.01 (Highly correlated)\n",
        "\n",
        "'cls_students': 38.04 (Highly correlated)\n",
        "\n",
        "'bty_f1lower': 1,440,490 (Highly correlated)\n",
        "\n",
        "'bty_f1upper': 1,534,151 (Highly correlated)\n",
        "\n",
        "'bty_f2upper': 1,670,230 (Highly correlated)\n",
        "\n",
        "'bty_m1lower': 1,098,928 (Highly correlated)\n",
        "\n",
        "'bty_m1upper': 1,826,803 (Highly correlated)\n",
        "\n",
        "'bty_m2upper': 1,017,048 (Highly correlated)\n",
        "\n",
        "'bty_avg': 34,438,760 (Highly correlated)\n",
        "\n",
        "\n",
        "**From this interpretation:**\n",
        "\n",
        "Variables with VIF values close to 1 (age and cls_perc_eval) have little to no multicollinearity.\n",
        "\n",
        "Variables with VIF values between 1 and 5 (age and cls_perc_eval) have moderate multicollinearity.\n",
        "\n",
        "Variables with VIF values greater than 5 (cls_did_eval, cls_students, and beauty-related attributes) have potentially high multicollinearity."
      ],
      "metadata": {
        "id": "xhe0qOC8vB-b"
      }
    },
    {
      "cell_type": "markdown",
      "source": [
        "**14.What variables would you decide to keep and discard the others? And why?**\n",
        "\n",
        "**Keep Variables with Low VIF (VIF < 5):**\n",
        "\n",
        "'age' (VIF = 1.40)\n",
        "\n",
        "'cls_perc_eval' (VIF = 2.29)\n",
        "\n",
        "**Consider Discarding Highly Correlated Variables (VIF > 5):**\n",
        "\n",
        "'cls_did_eval' (VIF = 35.01)\n",
        "\n",
        "'cls_students' (VIF = 38.04)\n",
        "\n",
        "Beauty-related attributes ('bty_f1lower', 'bty_f1upper', 'bty_f2upper', 'bty_m1lower', 'bty_m1upper', 'bty_m2upper', 'bty_avg') with VIF values ranging from 1,017,048 to 34,438,760.\n",
        "\n",
        "**Considerations for Discarding:**\n",
        "\n",
        "'cls_did_eval' and 'cls_students' have the highest VIF values, indicating strong multicollinearity with other variables. One of these could be discarded to address multicollinearity. The choice depends on domain knowledge and the relevance of these variables to your analysis.\n",
        "\n",
        "**Potential Actions:**\n",
        "\n",
        "Discard one of 'cls_did_eval' or 'cls_students' to reduce multicollinearity. This would help maintain model interpretability and stability.\n",
        "If beauty-related attributes are conceptually important and you want to retain them, consider using regularization techniques or transforming variables to mitigate multicollinearity.\n"
      ],
      "metadata": {
        "id": "JmyQCFIuv-Cc"
      }
    },
    {
      "cell_type": "markdown",
      "source": [
        "**15.Estimate the new MSE and R2 error after removing the highly co-related attributes.**"
      ],
      "metadata": {
        "id": "kdSi--5ewv70"
      }
    },
    {
      "cell_type": "code",
      "source": [
        "attributes = ['age', 'cls_perc_eval', 'bty_f1lower', 'bty_f1upper', 'bty_f2upper', 'bty_m1lower', 'bty_m1upper', 'bty_m2upper']\n",
        "X = df[attributes]\n",
        "\n",
        "X_train, X_test, y_train, y_test = train_test_split(X, df['score'], test_size=0.2, random_state=42)\n",
        "\n",
        "X_train = sm.add_constant(X_train)\n",
        "\n",
        "model = sm.OLS(y_train, X_train).fit()\n",
        "\n",
        "X_test = sm.add_constant(X_test)\n",
        "y_pred = model.predict(X_test)\n",
        "\n",
        "new_mse = mean_squared_error(y_test, y_pred)\n",
        "\n",
        "new_r2 = r2_score(y_test, y_pred)\n",
        "\n",
        "print(\"New Mean Squared Error (MSE) after removing highly correlated attributes:\", new_mse)\n",
        "print(\"New R-squared (R2) after removing highly correlated attributes:\", new_r2)\n"
      ],
      "metadata": {
        "colab": {
          "base_uri": "https://localhost:8080/"
        },
        "id": "PF8iA9-ZtYO6",
        "outputId": "27a94c01-5ee3-4c1a-a6f4-e85264b3484a"
      },
      "execution_count": null,
      "outputs": [
        {
          "output_type": "stream",
          "name": "stdout",
          "text": [
            "New Mean Squared Error (MSE) after removing highly correlated attributes: 0.2937753070225331\n",
            "New R-squared (R2) after removing highly correlated attributes: 0.064283745999555\n"
          ]
        }
      ]
    },
    {
      "cell_type": "markdown",
      "source": [
        "**16.Compare the std error of each coefficient. Is there any change in any attribute std error.**"
      ],
      "metadata": {
        "id": "QC7dFyV8xONU"
      }
    },
    {
      "cell_type": "code",
      "source": [
        "import pandas as pd\n",
        "import statsmodels.api as sm\n",
        "from sklearn.model_selection import train_test_split\n",
        "\n",
        "attributes_original = ['age', 'cls_perc_eval', 'cls_did_eval', 'cls_students',\n",
        "                       'bty_f1lower', 'bty_f1upper', 'bty_f2upper', 'bty_m1lower',\n",
        "                       'bty_m1upper', 'bty_m2upper', 'bty_avg']\n",
        "X_original = df[attributes_original]\n",
        "\n",
        "X_train, _, y_train, _ = train_test_split(X_original, df['score'], test_size=0.2, random_state=42)\n",
        "\n",
        "X_train = sm.add_constant(X_train)\n",
        "\n",
        "model_original = sm.OLS(y_train, X_train).fit()\n",
        "\n",
        "attributes_removed = ['age', 'cls_perc_eval', 'bty_f1lower', 'bty_f1upper', 'bty_f2upper', 'bty_m1lower', 'bty_m1upper', 'bty_m2upper']\n",
        "X_removed = df[attributes_removed]\n",
        "\n",
        "X_train, _, y_train, _ = train_test_split(X_removed, df['score'], test_size=0.2, random_state=42)\n",
        "\n",
        "X_train = sm.add_constant(X_train)\n",
        "\n",
        "model_removed = sm.OLS(y_train, X_train).fit()\n",
        "\n",
        "print(\"Standard Errors of Coefficients (Original Model):\")\n",
        "print(model_original.bse)\n",
        "\n",
        "print(\"\\nStandard Errors of Coefficients (Model with Highly Correlated Attributes Removed):\")\n",
        "print(model_removed.bse)\n"
      ],
      "metadata": {
        "colab": {
          "base_uri": "https://localhost:8080/"
        },
        "id": "mqVu-JRhw5dC",
        "outputId": "11051c20-a4e1-4663-94d6-e8b72b9c0d37"
      },
      "execution_count": null,
      "outputs": [
        {
          "output_type": "stream",
          "name": "stdout",
          "text": [
            "Standard Errors of Coefficients (Original Model):\n",
            "const              0.266884\n",
            "age                0.003333\n",
            "cls_perc_eval      0.002489\n",
            "cls_did_eval       0.003783\n",
            "cls_students       0.002367\n",
            "bty_f1lower       17.768025\n",
            "bty_f1upper       17.762947\n",
            "bty_f2upper       17.765566\n",
            "bty_m1lower       17.764922\n",
            "bty_m1upper       17.765086\n",
            "bty_m2upper       17.760743\n",
            "bty_avg          106.590756\n",
            "dtype: float64\n",
            "\n",
            "Standard Errors of Coefficients (Model with Highly Correlated Attributes Removed):\n",
            "const            0.234758\n",
            "age              0.003307\n",
            "cls_perc_eval    0.001734\n",
            "bty_f1lower      0.023396\n",
            "bty_f1upper      0.023741\n",
            "bty_f2upper      0.019976\n",
            "bty_m1lower      0.024598\n",
            "bty_m1upper      0.022407\n",
            "bty_m2upper      0.024193\n",
            "dtype: float64\n"
          ]
        }
      ]
    },
    {
      "cell_type": "markdown",
      "source": [
        "**17.TRY TO ADD the attributes rank + ethnicity + gender + language + age and build the model**"
      ],
      "metadata": {
        "id": "nqH-TiEoxykE"
      }
    },
    {
      "cell_type": "code",
      "source": [
        "from sklearn.preprocessing import LabelEncoder\n",
        "\n",
        "attributes = ['age', 'cls_perc_eval', 'bty_f1lower', 'bty_f1upper', 'bty_f2upper', 'bty_m1lower',\n",
        "              'bty_m1upper', 'bty_m2upper', 'rank', 'ethnicity', 'gender', 'language']\n",
        "\n",
        "label_encoder = LabelEncoder()\n",
        "for attr in ['rank', 'ethnicity', 'gender', 'language']:\n",
        "    df[attr] = label_encoder.fit_transform(df[attr])\n",
        "\n",
        "X = df[attributes]\n",
        "\n",
        "X_train, X_test, y_train, y_test = train_test_split(X, df['score'], test_size=0.2, random_state=42)\n",
        "\n",
        "X_train = sm.add_constant(X_train)\n",
        "\n",
        "model = sm.OLS(y_train, X_train).fit()\n",
        "\n",
        "X_test = sm.add_constant(X_test)\n",
        "y_pred = model.predict(X_test)\n",
        "\n",
        "mse = mean_squared_error(y_test, y_pred)\n",
        "\n",
        "r2 = r2_score(y_test, y_pred)\n",
        "\n",
        "print(\"Mean Squared Error (MSE):\", mse)\n",
        "print(\"R-squared (R2):\", r2)\n"
      ],
      "metadata": {
        "colab": {
          "base_uri": "https://localhost:8080/"
        },
        "id": "6IsViw00xeJC",
        "outputId": "d4c2cff7-9c38-415b-fc11-107d2542ac10"
      },
      "execution_count": null,
      "outputs": [
        {
          "output_type": "stream",
          "name": "stdout",
          "text": [
            "Mean Squared Error (MSE): 0.2908260329259451\n",
            "R-squared (R2): 0.07367760465176709\n"
          ]
        }
      ]
    },
    {
      "cell_type": "markdown",
      "source": [
        "**18.See the p value of the attributes, if any p>0,5 discard it and rebuild the model. Check if there is any change in the coefficients and see if the newly added attributes have disrupted the error.**"
      ],
      "metadata": {
        "id": "qQ-96ZcVyIBr"
      }
    },
    {
      "cell_type": "code",
      "source": [
        "p_values = model.pvalues\n",
        "\n",
        "print(\"P-values of Coefficients:\")\n",
        "print(p_values)\n",
        "\n",
        "attributes_to_discard = p_values[p_values > 0.5].index\n",
        "attributes_remaining = [attr for attr in attributes if attr not in attributes_to_discard]\n",
        "\n",
        "X_train_remaining = sm.add_constant(X_train[attributes_remaining])\n",
        "model_discarded = sm.OLS(y_train, X_train_remaining).fit()\n",
        "\n",
        "print(\"\\nCoefficients of Discarded Model:\")\n",
        "print(model.summary())\n",
        "\n",
        "print(\"\\nCoefficients of Model with Remaining Attributes:\")\n",
        "print(model_discarded.summary())\n",
        "\n",
        "X_test_remaining = sm.add_constant(X_test[attributes_remaining])\n",
        "y_pred_remaining = model_discarded.predict(X_test_remaining)\n",
        "\n",
        "mse_remaining = mean_squared_error(y_test, y_pred_remaining)\n",
        "\n",
        "print(\"\\nMean Squared Error (MSE) with Remaining Attributes:\", mse_remaining)\n"
      ],
      "metadata": {
        "colab": {
          "base_uri": "https://localhost:8080/"
        },
        "id": "IaXkOYWGx9Ri",
        "outputId": "018b77a4-9b0e-4490-895e-9a2f09761b06"
      },
      "execution_count": null,
      "outputs": [
        {
          "output_type": "stream",
          "name": "stdout",
          "text": [
            "P-values of Coefficients:\n",
            "const            5.871548e-57\n",
            "cls_perc_eval    1.965865e-02\n",
            "bty_f1lower      5.223764e-01\n",
            "bty_f1upper      5.917905e-03\n",
            "bty_f2upper      5.766753e-02\n",
            "bty_m1lower      8.753615e-03\n",
            "bty_m1upper      2.107757e-01\n",
            "bty_m2upper      5.181319e-01\n",
            "rank             5.050668e-02\n",
            "ethnicity        7.945642e-03\n",
            "gender           3.550859e-06\n",
            "language         4.154535e-02\n",
            "dtype: float64\n",
            "\n",
            "Coefficients of Discarded Model:\n",
            "                            OLS Regression Results                            \n",
            "==============================================================================\n",
            "Dep. Variable:                  score   R-squared:                       0.155\n",
            "Model:                            OLS   Adj. R-squared:                  0.129\n",
            "Method:                 Least Squares   F-statistic:                     5.984\n",
            "Date:                Tue, 29 Aug 2023   Prob (F-statistic):           5.62e-09\n",
            "Time:                        10:22:37   Log-Likelihood:                -264.57\n",
            "No. Observations:                 370   AIC:                             553.1\n",
            "Df Residuals:                     358   BIC:                             600.1\n",
            "Df Model:                          11                                         \n",
            "Covariance Type:            nonrobust                                         \n",
            "=================================================================================\n",
            "                    coef    std err          t      P>|t|      [0.025      0.975]\n",
            "---------------------------------------------------------------------------------\n",
            "const             3.3701      0.176     19.193      0.000       3.025       3.715\n",
            "cls_perc_eval     0.0039      0.002      2.343      0.020       0.001       0.007\n",
            "bty_f1lower      -0.0144      0.022     -0.640      0.522      -0.059       0.030\n",
            "bty_f1upper       0.0617      0.022      2.769      0.006       0.018       0.106\n",
            "bty_f2upper       0.0373      0.020      1.904      0.058      -0.001       0.076\n",
            "bty_m1lower      -0.0633      0.024     -2.636      0.009      -0.111      -0.016\n",
            "bty_m1upper       0.0270      0.022      1.254      0.211      -0.015       0.069\n",
            "bty_m2upper      -0.0148      0.023     -0.647      0.518      -0.060       0.030\n",
            "rank             -0.0651      0.033     -1.962      0.051      -0.130       0.000\n",
            "ethnicity         0.2252      0.084      2.669      0.008       0.059       0.391\n",
            "gender            0.2697      0.057      4.710      0.000       0.157       0.382\n",
            "language         -0.2678      0.131     -2.045      0.042      -0.525      -0.010\n",
            "==============================================================================\n",
            "Omnibus:                       30.816   Durbin-Watson:                   1.975\n",
            "Prob(Omnibus):                  0.000   Jarque-Bera (JB):               36.044\n",
            "Skew:                          -0.736   Prob(JB):                     1.49e-08\n",
            "Kurtosis:                       3.413   Cond. No.                         543.\n",
            "==============================================================================\n",
            "\n",
            "Notes:\n",
            "[1] Standard Errors assume that the covariance matrix of the errors is correctly specified.\n",
            "\n",
            "Coefficients of Model with Remaining Attributes:\n",
            "                            OLS Regression Results                            \n",
            "==============================================================================\n",
            "Dep. Variable:                  score   R-squared:                       0.153\n",
            "Model:                            OLS   Adj. R-squared:                  0.132\n",
            "Method:                 Least Squares   F-statistic:                     7.219\n",
            "Date:                Tue, 29 Aug 2023   Prob (F-statistic):           1.17e-09\n",
            "Time:                        10:22:37   Log-Likelihood:                -265.09\n",
            "No. Observations:                 370   AIC:                             550.2\n",
            "Df Residuals:                     360   BIC:                             589.3\n",
            "Df Model:                           9                                         \n",
            "Covariance Type:            nonrobust                                         \n",
            "=================================================================================\n",
            "                    coef    std err          t      P>|t|      [0.025      0.975]\n",
            "---------------------------------------------------------------------------------\n",
            "const             3.3472      0.171     19.552      0.000       3.011       3.684\n",
            "cls_perc_eval     0.0039      0.002      2.402      0.017       0.001       0.007\n",
            "bty_f1upper       0.0576      0.022      2.633      0.009       0.015       0.101\n",
            "bty_f2upper       0.0318      0.019      1.704      0.089      -0.005       0.068\n",
            "bty_m1lower      -0.0699      0.023     -3.036      0.003      -0.115      -0.025\n",
            "bty_m1upper       0.0205      0.020      1.009      0.314      -0.019       0.061\n",
            "rank             -0.0631      0.033     -1.910      0.057      -0.128       0.002\n",
            "ethnicity         0.2147      0.082      2.626      0.009       0.054       0.375\n",
            "gender            0.2633      0.057      4.634      0.000       0.152       0.375\n",
            "language         -0.2663      0.131     -2.041      0.042      -0.523      -0.010\n",
            "==============================================================================\n",
            "Omnibus:                       29.885   Durbin-Watson:                   1.970\n",
            "Prob(Omnibus):                  0.000   Jarque-Bera (JB):               34.752\n",
            "Skew:                          -0.728   Prob(JB):                     2.84e-08\n",
            "Kurtosis:                       3.364   Cond. No.                         529.\n",
            "==============================================================================\n",
            "\n",
            "Notes:\n",
            "[1] Standard Errors assume that the covariance matrix of the errors is correctly specified.\n",
            "\n",
            "Mean Squared Error (MSE) with Remaining Attributes: 0.2905403923165837\n"
          ]
        }
      ]
    },
    {
      "cell_type": "code",
      "source": [],
      "metadata": {
        "id": "Bu_PAstFyapS"
      },
      "execution_count": null,
      "outputs": []
    }
  ]
}