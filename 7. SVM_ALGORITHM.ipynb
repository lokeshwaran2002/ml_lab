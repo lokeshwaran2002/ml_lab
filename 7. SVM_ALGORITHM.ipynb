{
  "nbformat": 4,
  "nbformat_minor": 0,
  "metadata": {
    "colab": {
      "provenance": []
    },
    "kernelspec": {
      "name": "python3",
      "display_name": "Python 3"
    },
    "language_info": {
      "name": "python"
    }
  },
  "cells": [
    {
      "cell_type": "markdown",
      "source": [
        "\n",
        "\n",
        "```\n",
        "Name: Sudarsun S\n",
        "RegNo: 20BCE1699\n",
        "Machine Learning Embedded Lab\n",
        "Topic: Support Vector Macine\n",
        "```\n",
        "\n"
      ],
      "metadata": {
        "id": "FSTm7TZfhru9"
      }
    },
    {
      "cell_type": "code",
      "execution_count": null,
      "metadata": {
        "id": "-dhvWMZWZOcO"
      },
      "outputs": [],
      "source": [
        "import numpy as np\n",
        "import matplotlib.pyplot as plt\n",
        "from sklearn import svm, datasets\n",
        "from sklearn.model_selection import GridSearchCV, train_test_split\n",
        "from sklearn.metrics import confusion_matrix, accuracy_score"
      ]
    },
    {
      "cell_type": "code",
      "source": [
        "# Step 1: Generate random data points\n",
        "np.random.seed(0)\n",
        "X = np.random.randn(20, 2)\n",
        "y = np.random.choice([-1, 1], 20)\n",
        "\n",
        "# Step 2: Plot the data points\n",
        "plt.scatter(X[y == -1][:, 0], X[y == -1][:, 1], color='red', marker='o', label='-1')\n",
        "plt.scatter(X[y == 1][:, 0], X[y == 1][:, 1], color='blue', marker='x', label='1')\n",
        "plt.xlabel('Feature 1')\n",
        "plt.ylabel('Feature 2')\n",
        "plt.legend(loc='best')\n",
        "plt.title('Random Data Points')\n",
        "plt.show()"
      ],
      "metadata": {
        "colab": {
          "base_uri": "https://localhost:8080/",
          "height": 472
        },
        "id": "n9k80espb-J_",
        "outputId": "139a86fe-eeb4-4d1a-b460-e6f670973cf4"
      },
      "execution_count": null,
      "outputs": [
        {
          "output_type": "display_data",
          "data": {
            "text/plain": [
              "<Figure size 640x480 with 1 Axes>"
            ],
            "image/png": "[encoded data removed]"
          },
          "metadata": {}
        }
      ]
    },
    {
      "cell_type": "code",
      "source": [
        "# Step 3: Apply Linear SVM with soft margin\n",
        "svc_soft = svm.SVC(kernel='rbf', C=1)\n",
        "print(svc_soft.fit(X, y))\n",
        "\n",
        "# Step 3: Apply Linear SVM with hard margin\n",
        "svc_hard = svm.SVC(kernel='linear', C=1e6)\n",
        "print(svc_hard.fit(X, y))"
      ],
      "metadata": {
        "colab": {
          "base_uri": "https://localhost:8080/"
        },
        "id": "j4tnzG9YcCJf",
        "outputId": "e77377c4-c3cd-4a9d-c612-842ec3f5bc48"
      },
      "execution_count": null,
      "outputs": [
        {
          "output_type": "stream",
          "name": "stdout",
          "text": [
            "SVC(C=1)\n",
            "SVC(C=1000000.0, kernel='linear')\n"
          ]
        }
      ]
    },
    {
      "cell_type": "code",
      "source": [
        "# Step 4: Tune the SVM parameters using Grid Search\n",
        "param_grid = {'C': [0.01, 0.1, 1, 10, 100]}\n",
        "grid_search = GridSearchCV(svm.SVC(kernel='linear'), param_grid, cv=5)\n",
        "grid_search.fit(X, y)\n",
        "best_svc = grid_search.best_estimator_\n"
      ],
      "metadata": {
        "id": "U4NmU8DMcNSc"
      },
      "execution_count": null,
      "outputs": []
    },
    {
      "cell_type": "code",
      "source": [
        "# Step 5: Extract the support vectors\n",
        "support_vectors = best_svc.support_vectors_"
      ],
      "metadata": {
        "id": "WlfDJjiSdXiX"
      },
      "execution_count": null,
      "outputs": []
    },
    {
      "cell_type": "code",
      "source": [
        "# Step 6: Calculate the confusion matrix\n",
        "X_train, X_test, y_train, y_test = train_test_split(X, y, test_size=0.2, random_state=42)\n",
        "best_svc.fit(X_train, y_train)\n",
        "y_pred = best_svc.predict(X_test)\n",
        "conf_matrix = confusion_matrix(y_test, y_pred)"
      ],
      "metadata": {
        "id": "HUfShnuVd8h8"
      },
      "execution_count": null,
      "outputs": []
    },
    {
      "cell_type": "code",
      "source": [
        "# Step 7: Test the final model using random test data\n",
        "random_test_data = np.random.randn(10, 2)\n",
        "predictions = best_svc.predict(random_test_data)"
      ],
      "metadata": {
        "id": "SrW8_0xLeArc"
      },
      "execution_count": null,
      "outputs": []
    },
    {
      "cell_type": "code",
      "source": [
        "print(\"Support Vectors:\")\n",
        "print(support_vectors)\n",
        "print(\"\\nConfusion Matrix:\")\n",
        "print(conf_matrix)\n",
        "print(\"\\nPredictions on Random Test Data:\")\n",
        "print(predictions)"
      ],
      "metadata": {
        "colab": {
          "base_uri": "https://localhost:8080/"
        },
        "id": "ACrEH-ZTeDvB",
        "outputId": "b4dcb3bb-0636-4a79-c79b-2b3c90411747"
      },
      "execution_count": null,
      "outputs": [
        {
          "output_type": "stream",
          "name": "stdout",
          "text": [
            "Support Vectors:\n",
            "[[ 1.76405235  0.40015721]\n",
            " [ 0.95008842 -0.15135721]\n",
            " [ 0.14404357  1.45427351]\n",
            " [ 0.76103773  0.12167502]\n",
            " [ 1.49407907 -0.20515826]\n",
            " [ 0.3130677  -0.85409574]\n",
            " [ 0.04575852 -0.18718385]\n",
            " [ 0.15494743  0.37816252]\n",
            " [ 1.23029068  1.20237985]\n",
            " [ 0.97873798  2.2408932 ]\n",
            " [ 1.86755799 -0.97727788]\n",
            " [-0.10321885  0.4105985 ]\n",
            " [ 0.44386323  0.33367433]\n",
            " [ 0.8644362  -0.74216502]\n",
            " [ 2.26975462 -1.45436567]\n",
            " [ 1.53277921  1.46935877]]\n",
            "\n",
            "Confusion Matrix:\n",
            "[[3 0]\n",
            " [1 0]]\n",
            "\n",
            "Predictions on Random Test Data:\n",
            "[-1 -1 -1 -1 -1 -1 -1 -1 -1 -1]\n"
          ]
        }
      ]
    },
    {
      "cell_type": "code",
      "source": [],
      "metadata": {
        "id": "4d4U4YEuhegW"
      },
      "execution_count": null,
      "outputs": []
    }
  ]
}